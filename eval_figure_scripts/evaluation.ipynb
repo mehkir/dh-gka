{
 "cells": [
  {
   "cell_type": "code",
   "execution_count": 10,
   "metadata": {},
   "outputs": [],
   "source": [
    "import pandas as pd\n",
    "import numpy as np\n",
    "from datetime import datetime\n",
    "from matplotlib import pyplot as plt\n",
    "%matplotlib inline"
   ]
  },
  {
   "cell_type": "code",
   "execution_count": 11,
   "metadata": {},
   "outputs": [
    {
     "name": "stdout",
     "output_type": "stream",
     "text": [
      "FULL DURATION: 715.55ms\n",
      "KEY AGREEMENT DURATION: 696.00ms\n",
      "INITIALIZATION DURATION: 19.55ms\n"
     ]
    }
   ],
   "source": [
    "df_str_dh = pd.read_csv(filepath_or_buffer='../statistic_results/statistic-#17.csv', header=0, sep=',', dtype=np.longlong)\n",
    "df_str_dh['FULL_DURATION'] = df_str_dh['DURATION_END']-df_str_dh['DURATION_START']\n",
    "df_str_dh['KEY_AGREEMENT_DURATION'] = df_str_dh['DURATION_END']-df_str_dh['KEY_AGREEMENT_START']\n",
    "df_str_dh['INITIALIZATION_DURATION'] = df_str_dh['FULL_DURATION']-df_str_dh['KEY_AGREEMENT_DURATION']\n",
    "\n",
    "print(\"FULL DURATION: {:.2f}ms\".format(df_str_dh['FULL_DURATION'].mean()/1000_000))\n",
    "print(\"KEY AGREEMENT DURATION: {:.2f}ms\".format(df_str_dh['KEY_AGREEMENT_DURATION'].mean()/1000_000))\n",
    "print(\"INITIALIZATION DURATION: {:.2f}ms\".format(df_str_dh['INITIALIZATION_DURATION'].mean()/1000_000))"
   ]
  }
 ],
 "metadata": {
  "kernelspec": {
   "display_name": "py-env",
   "language": "python",
   "name": "python3"
  },
  "language_info": {
   "codemirror_mode": {
    "name": "ipython",
    "version": 3
   },
   "file_extension": ".py",
   "mimetype": "text/x-python",
   "name": "python",
   "nbconvert_exporter": "python",
   "pygments_lexer": "ipython3",
   "version": "3.11.3"
  }
 },
 "nbformat": 4,
 "nbformat_minor": 2
}
