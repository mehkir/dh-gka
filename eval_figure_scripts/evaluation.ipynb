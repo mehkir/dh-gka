{
 "cells": [
  {
   "cell_type": "code",
   "execution_count": 6,
   "metadata": {},
   "outputs": [],
   "source": [
    "import pandas as pd\n",
    "import numpy as np\n",
    "from datetime import datetime\n",
    "from matplotlib import pyplot as plt\n",
    "%matplotlib inline"
   ]
  },
  {
   "cell_type": "code",
   "execution_count": 8,
   "metadata": {},
   "outputs": [
    {
     "name": "stdout",
     "output_type": "stream",
     "text": [
      "DEFAULT_DH-PROTO_STR_DH-1000\n",
      "INITIALIZATION DURATION: 527.15ms\n",
      "FULL DURATION: 49414.41ms\n",
      "KEY AGREEMENT DURATION: 48887.26ms\n",
      "CRYPTO OPERATIONS COUNT: 503498.0\n",
      "TOTAL MESSAGE COUNT: 7732.0\n",
      "\n",
      "\n",
      "ECC_DH-PROTO_STR_DH-1000\n",
      "INITIALIZATION DURATION: 16.27ms\n",
      "FULL DURATION: 45211.41ms\n",
      "KEY AGREEMENT DURATION: 45195.14ms\n",
      "CRYPTO OPERATIONS COUNT: 503498.0\n",
      "TOTAL MESSAGE COUNT: 6246.0\n",
      "\n",
      "\n",
      "DEFAULT_DH-PROTO_DST_DH-1000\n",
      "INITIALIZATION DURATION: 7.13ms\n",
      "FULL DURATION: 659.49ms\n",
      "KEY AGREEMENT DURATION: 652.36ms\n",
      "CRYPTO OPERATIONS COUNT: 7995.0\n",
      "TOTAL MESSAGE COUNT: 14163.0\n",
      "\n",
      "\n",
      "ECC_DH-PROTO_DST_DH-1000\n",
      "INITIALIZATION DURATION: 12.34ms\n",
      "FULL DURATION: 720.80ms\n",
      "KEY AGREEMENT DURATION: 708.46ms\n",
      "CRYPTO OPERATIONS COUNT: 7995.0\n",
      "TOTAL MESSAGE COUNT: 10068.0\n",
      "\n",
      "\n"
     ]
    }
   ],
   "source": [
    "MESSAGE_COUNTS = ['FIND_MESSAGE_COUNT',\n",
    "                  'OFFER_MESSAGE_COUNT',\n",
    "                  'REQUEST_MESSAGE_COUNT',\n",
    "                  'RESPONSE_MESSAGE_COUNT',\n",
    "                  'MEMBER_INFO_REQUEST_MESSAGE_COUNT',\n",
    "                  'MEMBER_INFO_RESPONSE_MESSAGE_COUNT',\n",
    "                  'SYNCH_TOKEN_MESSAGE_COUNT',\n",
    "                  'FINISH_MESSAGE_COUNT',\n",
    "                  'FINISH_ACK_MESSAGE_COUNT',\n",
    "                  'DISTRIBUTED_RESPONSE_MESSAGE_COUNT']\n",
    "KEY_AGREEMENT_PROTOCOL = ['PROTO_STR_DH','PROTO_DST_DH']\n",
    "CRYPTO_ALGORITHM = ['DEFAULT_DH','ECC_DH']\n",
    "\n",
    "for protocol in KEY_AGREEMENT_PROTOCOL:\n",
    "    for algorithm in CRYPTO_ALGORITHM:\n",
    "        print(\"{}-{}-{}\".format(algorithm,protocol,1000))\n",
    "        df_dh = pd.read_csv(filepath_or_buffer=\"../statistic_results/{}-{}-{}-#0.csv\".format(algorithm,protocol,1000), header=0, sep=',', dtype=np.longlong)\n",
    "        df_dh['FULL_DURATION'] = df_dh['DURATION_END']-df_dh['DURATION_START']\n",
    "        df_dh['KEY_AGREEMENT_DURATION'] = df_dh['DURATION_END']-df_dh['KEY_AGREEMENT_START']\n",
    "        df_dh['INITIALIZATION_DURATION'] = df_dh['FULL_DURATION']-df_dh['KEY_AGREEMENT_DURATION']\n",
    "        df_dh['TOTAL_MESSAGE_COUNT'] = 0\n",
    "        for message_count in MESSAGE_COUNTS:\n",
    "            df_dh['TOTAL_MESSAGE_COUNT'] += df_dh[message_count];\n",
    "\n",
    "        print(\"INITIALIZATION DURATION: {:.2f}ms\".format(df_dh['INITIALIZATION_DURATION'].mean()/1000_000))\n",
    "        print(\"FULL DURATION: {:.2f}ms\".format(df_dh['FULL_DURATION'].mean()/1000_000))\n",
    "        print(\"KEY AGREEMENT DURATION: {:.2f}ms\".format(df_dh['KEY_AGREEMENT_DURATION'].mean()/1000_000))\n",
    "        print(\"CRYPTO OPERATIONS COUNT: {}\".format(df_dh['CRYPTO_OPERATIONS_COUNT'].mean()))\n",
    "        print(\"TOTAL MESSAGE COUNT: {}\".format(df_dh['TOTAL_MESSAGE_COUNT'].mean()))\n",
    "        print(\"\\n\")"
   ]
  }
 ],
 "metadata": {
  "kernelspec": {
   "display_name": "py-env",
   "language": "python",
   "name": "python3"
  },
  "language_info": {
   "codemirror_mode": {
    "name": "ipython",
    "version": 3
   },
   "file_extension": ".py",
   "mimetype": "text/x-python",
   "name": "python",
   "nbconvert_exporter": "python",
   "pygments_lexer": "ipython3",
   "version": "3.11.5"
  }
 },
 "nbformat": 4,
 "nbformat_minor": 2
}
